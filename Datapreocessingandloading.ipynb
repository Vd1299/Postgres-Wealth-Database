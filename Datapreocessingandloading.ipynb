{
 "cells": [
  {
   "cell_type": "code",
   "execution_count": 1,
   "metadata": {},
   "outputs": [],
   "source": [
    "import pandas as pd\n",
    "import psycopg2"
   ]
  },
  {
   "cell_type": "code",
   "execution_count": 2,
   "metadata": {},
   "outputs": [],
   "source": [
    "def create_db():\n",
    "    conn = psycopg2.connect(\"host=localhost dbname=postgres user=postgres password=root\")\n",
    "    conn.set_session(autocommit=True)\n",
    "    cur = conn.cursor()\n",
    "\n",
    "    cur.execute(\"DROP DATABASE IF EXISTS accounts\")\n",
    "    cur.execute(\"CREATE DATABASE accounts\")\n",
    "\n",
    "    cur.close()\n",
    "    conn.close()\n",
    "    \n",
    "\n",
    "    conn = psycopg2.connect(\"host=localhost dbname=accounts user=postgres password=root\")\n",
    "    cur = conn.cursor()\n",
    "\n",
    "    return cur, conn\n",
    "    "
   ]
  },
  {
   "cell_type": "code",
   "execution_count": 3,
   "metadata": {},
   "outputs": [],
   "source": [
    "def drop_tables(cur, conn):\n",
    "    for query in create_table_queries:\n",
    "        cur.execute(query)\n",
    "        conn.commit()"
   ]
  },
  {
   "cell_type": "code",
   "execution_count": 4,
   "metadata": {},
   "outputs": [],
   "source": [
    "Accountscountry = pd.read_csv(\"Wealth-AccountsCountry.csv\")"
   ]
  },
  {
   "cell_type": "code",
   "execution_count": 5,
   "metadata": {},
   "outputs": [
    {
     "data": {
      "text/html": [
       "<div>\n",
       "<style scoped>\n",
       "    .dataframe tbody tr th:only-of-type {\n",
       "        vertical-align: middle;\n",
       "    }\n",
       "\n",
       "    .dataframe tbody tr th {\n",
       "        vertical-align: top;\n",
       "    }\n",
       "\n",
       "    .dataframe thead th {\n",
       "        text-align: right;\n",
       "    }\n",
       "</style>\n",
       "<table border=\"1\" class=\"dataframe\">\n",
       "  <thead>\n",
       "    <tr style=\"text-align: right;\">\n",
       "      <th></th>\n",
       "      <th>Code</th>\n",
       "      <th>Long Name</th>\n",
       "      <th>Income Group</th>\n",
       "      <th>Region</th>\n",
       "      <th>Lending category</th>\n",
       "      <th>Other groups</th>\n",
       "      <th>Currency Unit</th>\n",
       "      <th>Latest population census</th>\n",
       "      <th>Latest household survey</th>\n",
       "      <th>Special Notes</th>\n",
       "      <th>...</th>\n",
       "      <th>Source of most recent Income and expenditure data</th>\n",
       "      <th>Vital registration complete</th>\n",
       "      <th>Latest agricultural census</th>\n",
       "      <th>Latest industrial data</th>\n",
       "      <th>Latest trade data</th>\n",
       "      <th>Latest water withdrawal data</th>\n",
       "      <th>2-alpha code</th>\n",
       "      <th>WB-2 code</th>\n",
       "      <th>Table Name</th>\n",
       "      <th>Short Name</th>\n",
       "    </tr>\n",
       "  </thead>\n",
       "  <tbody>\n",
       "    <tr>\n",
       "      <th>0</th>\n",
       "      <td>ALB</td>\n",
       "      <td>Republic of Albania</td>\n",
       "      <td>Upper middle income</td>\n",
       "      <td>Europe &amp; Central Asia</td>\n",
       "      <td>IBRD</td>\n",
       "      <td>NaN</td>\n",
       "      <td>Albanian lek</td>\n",
       "      <td>2020 (expected)</td>\n",
       "      <td>Demographic and Health Survey, 2017/18</td>\n",
       "      <td>NaN</td>\n",
       "      <td>...</td>\n",
       "      <td>Living Standards Measurement Study Survey (LSM...</td>\n",
       "      <td>Yes</td>\n",
       "      <td>2012</td>\n",
       "      <td>2013.0</td>\n",
       "      <td>2018.0</td>\n",
       "      <td>2006.0</td>\n",
       "      <td>AL</td>\n",
       "      <td>AL</td>\n",
       "      <td>Albania</td>\n",
       "      <td>Albania</td>\n",
       "    </tr>\n",
       "    <tr>\n",
       "      <th>1</th>\n",
       "      <td>ARG</td>\n",
       "      <td>Argentine Republic</td>\n",
       "      <td>Upper middle income</td>\n",
       "      <td>Latin America &amp; Caribbean</td>\n",
       "      <td>IBRD</td>\n",
       "      <td>NaN</td>\n",
       "      <td>Argentine peso</td>\n",
       "      <td>2020 (expected)</td>\n",
       "      <td>Multiple Indicator Cluster Survey, 2019/20</td>\n",
       "      <td>NaN</td>\n",
       "      <td>...</td>\n",
       "      <td>Integrated household survey (IHS), 2016</td>\n",
       "      <td>Yes</td>\n",
       "      <td>2008</td>\n",
       "      <td>2002.0</td>\n",
       "      <td>2018.0</td>\n",
       "      <td>2011.0</td>\n",
       "      <td>AR</td>\n",
       "      <td>AR</td>\n",
       "      <td>Argentina</td>\n",
       "      <td>Argentina</td>\n",
       "    </tr>\n",
       "    <tr>\n",
       "      <th>2</th>\n",
       "      <td>ARM</td>\n",
       "      <td>Republic of Armenia</td>\n",
       "      <td>Upper middle income</td>\n",
       "      <td>Europe &amp; Central Asia</td>\n",
       "      <td>IBRD</td>\n",
       "      <td>NaN</td>\n",
       "      <td>Armenian dram</td>\n",
       "      <td>2020 (expected)</td>\n",
       "      <td>Demographic and Health Survey, 2015/16</td>\n",
       "      <td>NaN</td>\n",
       "      <td>...</td>\n",
       "      <td>Integrated household survey (IHS), 2016</td>\n",
       "      <td>Yes</td>\n",
       "      <td>2014</td>\n",
       "      <td>NaN</td>\n",
       "      <td>2018.0</td>\n",
       "      <td>2012.0</td>\n",
       "      <td>AM</td>\n",
       "      <td>AM</td>\n",
       "      <td>Armenia</td>\n",
       "      <td>Armenia</td>\n",
       "    </tr>\n",
       "    <tr>\n",
       "      <th>3</th>\n",
       "      <td>AUS</td>\n",
       "      <td>Commonwealth of Australia</td>\n",
       "      <td>High income</td>\n",
       "      <td>East Asia &amp; Pacific</td>\n",
       "      <td>NaN</td>\n",
       "      <td>NaN</td>\n",
       "      <td>Australian dollar</td>\n",
       "      <td>2016</td>\n",
       "      <td>NaN</td>\n",
       "      <td>Fiscal year end: June 30; reporting period for...</td>\n",
       "      <td>...</td>\n",
       "      <td>Expenditure survey/budget survey (ES/BS), 2010</td>\n",
       "      <td>Yes</td>\n",
       "      <td>2015-2016</td>\n",
       "      <td>2013.0</td>\n",
       "      <td>2018.0</td>\n",
       "      <td>2013.0</td>\n",
       "      <td>AU</td>\n",
       "      <td>AU</td>\n",
       "      <td>Australia</td>\n",
       "      <td>Australia</td>\n",
       "    </tr>\n",
       "    <tr>\n",
       "      <th>4</th>\n",
       "      <td>AUT</td>\n",
       "      <td>Republic of Austria</td>\n",
       "      <td>High income</td>\n",
       "      <td>Europe &amp; Central Asia</td>\n",
       "      <td>NaN</td>\n",
       "      <td>Euro area</td>\n",
       "      <td>Euro</td>\n",
       "      <td>2011. Population figures compiled from adminis...</td>\n",
       "      <td>NaN</td>\n",
       "      <td>A simple multiplier is used to convert the nat...</td>\n",
       "      <td>...</td>\n",
       "      <td>Income survey (IS), 2015</td>\n",
       "      <td>Yes</td>\n",
       "      <td>2010</td>\n",
       "      <td>2014.0</td>\n",
       "      <td>2018.0</td>\n",
       "      <td>2010.0</td>\n",
       "      <td>AT</td>\n",
       "      <td>AT</td>\n",
       "      <td>Austria</td>\n",
       "      <td>Austria</td>\n",
       "    </tr>\n",
       "  </tbody>\n",
       "</table>\n",
       "<p>5 rows × 31 columns</p>\n",
       "</div>"
      ],
      "text/plain": [
       "  Code                  Long Name         Income Group  \\\n",
       "0  ALB        Republic of Albania  Upper middle income   \n",
       "1  ARG         Argentine Republic  Upper middle income   \n",
       "2  ARM        Republic of Armenia  Upper middle income   \n",
       "3  AUS  Commonwealth of Australia          High income   \n",
       "4  AUT        Republic of Austria          High income   \n",
       "\n",
       "                      Region Lending category Other groups      Currency Unit  \\\n",
       "0      Europe & Central Asia             IBRD          NaN       Albanian lek   \n",
       "1  Latin America & Caribbean             IBRD          NaN     Argentine peso   \n",
       "2      Europe & Central Asia             IBRD          NaN      Armenian dram   \n",
       "3        East Asia & Pacific              NaN          NaN  Australian dollar   \n",
       "4      Europe & Central Asia              NaN    Euro area               Euro   \n",
       "\n",
       "                            Latest population census  \\\n",
       "0                                    2020 (expected)   \n",
       "1                                    2020 (expected)   \n",
       "2                                    2020 (expected)   \n",
       "3                                               2016   \n",
       "4  2011. Population figures compiled from adminis...   \n",
       "\n",
       "                      Latest household survey  \\\n",
       "0      Demographic and Health Survey, 2017/18   \n",
       "1  Multiple Indicator Cluster Survey, 2019/20   \n",
       "2      Demographic and Health Survey, 2015/16   \n",
       "3                                         NaN   \n",
       "4                                         NaN   \n",
       "\n",
       "                                       Special Notes  ...  \\\n",
       "0                                                NaN  ...   \n",
       "1                                                NaN  ...   \n",
       "2                                                NaN  ...   \n",
       "3  Fiscal year end: June 30; reporting period for...  ...   \n",
       "4  A simple multiplier is used to convert the nat...  ...   \n",
       "\n",
       "   Source of most recent Income and expenditure data  \\\n",
       "0  Living Standards Measurement Study Survey (LSM...   \n",
       "1            Integrated household survey (IHS), 2016   \n",
       "2            Integrated household survey (IHS), 2016   \n",
       "3     Expenditure survey/budget survey (ES/BS), 2010   \n",
       "4                           Income survey (IS), 2015   \n",
       "\n",
       "   Vital registration complete Latest agricultural census  \\\n",
       "0                          Yes                       2012   \n",
       "1                          Yes                       2008   \n",
       "2                          Yes                       2014   \n",
       "3                          Yes                  2015-2016   \n",
       "4                          Yes                       2010   \n",
       "\n",
       "  Latest industrial data Latest trade data Latest water withdrawal data  \\\n",
       "0                 2013.0            2018.0                       2006.0   \n",
       "1                 2002.0            2018.0                       2011.0   \n",
       "2                    NaN            2018.0                       2012.0   \n",
       "3                 2013.0            2018.0                       2013.0   \n",
       "4                 2014.0            2018.0                       2010.0   \n",
       "\n",
       "  2-alpha code WB-2 code Table Name Short Name  \n",
       "0           AL        AL    Albania    Albania  \n",
       "1           AR        AR  Argentina  Argentina  \n",
       "2           AM        AM    Armenia    Armenia  \n",
       "3           AU        AU  Australia  Australia  \n",
       "4           AT        AT    Austria    Austria  \n",
       "\n",
       "[5 rows x 31 columns]"
      ]
     },
     "execution_count": 5,
     "metadata": {},
     "output_type": "execute_result"
    }
   ],
   "source": [
    "Accountscountry.head()\n"
   ]
  },
  {
   "cell_type": "code",
   "execution_count": 6,
   "metadata": {},
   "outputs": [],
   "source": [
    "Accountscountry_clean = Accountscountry[['Code', 'Short Name', 'Table Name', 'Long Name', 'Currency Unit']]"
   ]
  },
  {
   "cell_type": "code",
   "execution_count": 7,
   "metadata": {},
   "outputs": [
    {
     "name": "stderr",
     "output_type": "stream",
     "text": [
      "C:\\Users\\vishv\\AppData\\Local\\Temp\\ipykernel_9656\\3772070207.py:2: SettingWithCopyWarning: \n",
      "A value is trying to be set on a copy of a slice from a DataFrame\n",
      "\n",
      "See the caveats in the documentation: https://pandas.pydata.org/pandas-docs/stable/user_guide/indexing.html#returning-a-view-versus-a-copy\n",
      "  Accountscountry_clean.drop_duplicates(subset=['Code'], keep='first', inplace=True)\n"
     ]
    },
    {
     "data": {
      "text/plain": [
       "Code             146\n",
       "Short Name       146\n",
       "Table Name       146\n",
       "Long Name        146\n",
       "Currency Unit    146\n",
       "dtype: int64"
      ]
     },
     "execution_count": 7,
     "metadata": {},
     "output_type": "execute_result"
    }
   ],
   "source": [
    "Accountscountry_clean.head()\n",
    "Accountscountry_clean.drop_duplicates(subset=['Code'], keep='first', inplace=True)\n",
    "Accountscountry_clean.count()"
   ]
  },
  {
   "cell_type": "code",
   "execution_count": 8,
   "metadata": {},
   "outputs": [],
   "source": [
    "Accountsdata = pd.read_csv(\"Wealth-AccountData.csv\")"
   ]
  },
  {
   "cell_type": "code",
   "execution_count": 9,
   "metadata": {},
   "outputs": [
    {
     "data": {
      "text/html": [
       "<div>\n",
       "<style scoped>\n",
       "    .dataframe tbody tr th:only-of-type {\n",
       "        vertical-align: middle;\n",
       "    }\n",
       "\n",
       "    .dataframe tbody tr th {\n",
       "        vertical-align: top;\n",
       "    }\n",
       "\n",
       "    .dataframe thead th {\n",
       "        text-align: right;\n",
       "    }\n",
       "</style>\n",
       "<table border=\"1\" class=\"dataframe\">\n",
       "  <thead>\n",
       "    <tr style=\"text-align: right;\">\n",
       "      <th></th>\n",
       "      <th>Country Name</th>\n",
       "      <th>Country Code</th>\n",
       "      <th>Series Name</th>\n",
       "      <th>Series Code</th>\n",
       "      <th>1995 [YR1995]</th>\n",
       "      <th>1996 [YR1996]</th>\n",
       "      <th>1997 [YR1997]</th>\n",
       "      <th>1998 [YR1998]</th>\n",
       "      <th>1999 [YR1999]</th>\n",
       "      <th>2000 [YR2000]</th>\n",
       "      <th>...</th>\n",
       "      <th>2009 [YR2009]</th>\n",
       "      <th>2010 [YR2010]</th>\n",
       "      <th>2011 [YR2011]</th>\n",
       "      <th>2012 [YR2012]</th>\n",
       "      <th>2013 [YR2013]</th>\n",
       "      <th>2014 [YR2014]</th>\n",
       "      <th>2015 [YR2015]</th>\n",
       "      <th>2016 [YR2016]</th>\n",
       "      <th>2017 [YR2017]</th>\n",
       "      <th>2018 [YR2018]</th>\n",
       "    </tr>\n",
       "  </thead>\n",
       "  <tbody>\n",
       "    <tr>\n",
       "      <th>0</th>\n",
       "      <td>Albania</td>\n",
       "      <td>ALB</td>\n",
       "      <td>Human capital (constant 2018 US$)</td>\n",
       "      <td>NW.HCA.TO</td>\n",
       "      <td>44900000000.00</td>\n",
       "      <td>43400000000.00</td>\n",
       "      <td>37100000000.00</td>\n",
       "      <td>38800000000.00</td>\n",
       "      <td>42200000000.00</td>\n",
       "      <td>43600000000.00</td>\n",
       "      <td>...</td>\n",
       "      <td>6.610000e+10</td>\n",
       "      <td>6.810000e+10</td>\n",
       "      <td>6.850000e+10</td>\n",
       "      <td>7.080000e+10</td>\n",
       "      <td>7.160000e+10</td>\n",
       "      <td>7.250000e+10</td>\n",
       "      <td>7.370000e+10</td>\n",
       "      <td>75700000000.00</td>\n",
       "      <td>78000000000.00</td>\n",
       "      <td>81200000000.00</td>\n",
       "    </tr>\n",
       "    <tr>\n",
       "      <th>1</th>\n",
       "      <td>Albania</td>\n",
       "      <td>ALB</td>\n",
       "      <td>Human capital per capita (constant 2018 US$)</td>\n",
       "      <td>NW.HCA.PC</td>\n",
       "      <td>14072.79</td>\n",
       "      <td>13708.99</td>\n",
       "      <td>11794.10</td>\n",
       "      <td>12399.48</td>\n",
       "      <td>13573.26</td>\n",
       "      <td>14118.13</td>\n",
       "      <td>...</td>\n",
       "      <td>2.258200e+04</td>\n",
       "      <td>2.336286e+04</td>\n",
       "      <td>2.359058e+04</td>\n",
       "      <td>2.439397e+04</td>\n",
       "      <td>2.473162e+04</td>\n",
       "      <td>2.509002e+04</td>\n",
       "      <td>2.559371e+04</td>\n",
       "      <td>26326.26</td>\n",
       "      <td>27160.86</td>\n",
       "      <td>28333.68</td>\n",
       "    </tr>\n",
       "    <tr>\n",
       "      <th>2</th>\n",
       "      <td>Albania</td>\n",
       "      <td>ALB</td>\n",
       "      <td>Human capital per capita, employed female (con...</td>\n",
       "      <td>NW.HCA.FEMP.PC</td>\n",
       "      <td>3468.86</td>\n",
       "      <td>3355.55</td>\n",
       "      <td>2869.00</td>\n",
       "      <td>3013.39</td>\n",
       "      <td>3259.89</td>\n",
       "      <td>3424.01</td>\n",
       "      <td>...</td>\n",
       "      <td>2.825340e+03</td>\n",
       "      <td>2.889150e+03</td>\n",
       "      <td>2.848520e+03</td>\n",
       "      <td>2.930230e+03</td>\n",
       "      <td>2.954270e+03</td>\n",
       "      <td>2.957420e+03</td>\n",
       "      <td>2.987550e+03</td>\n",
       "      <td>3072.50</td>\n",
       "      <td>3178.42</td>\n",
       "      <td>3312.93</td>\n",
       "    </tr>\n",
       "    <tr>\n",
       "      <th>3</th>\n",
       "      <td>Albania</td>\n",
       "      <td>ALB</td>\n",
       "      <td>Human capital per capita, employed male (const...</td>\n",
       "      <td>NW.HCA.MEMP.PC</td>\n",
       "      <td>6507.93</td>\n",
       "      <td>6353.74</td>\n",
       "      <td>5466.69</td>\n",
       "      <td>5901.07</td>\n",
       "      <td>6492.73</td>\n",
       "      <td>6872.02</td>\n",
       "      <td>...</td>\n",
       "      <td>1.525319e+04</td>\n",
       "      <td>1.578992e+04</td>\n",
       "      <td>1.579854e+04</td>\n",
       "      <td>1.647360e+04</td>\n",
       "      <td>1.681013e+04</td>\n",
       "      <td>1.699138e+04</td>\n",
       "      <td>1.730701e+04</td>\n",
       "      <td>17817.10</td>\n",
       "      <td>18445.94</td>\n",
       "      <td>19245.19</td>\n",
       "    </tr>\n",
       "    <tr>\n",
       "      <th>4</th>\n",
       "      <td>Albania</td>\n",
       "      <td>ALB</td>\n",
       "      <td>Human capital per capita, female (constant 201...</td>\n",
       "      <td>NW.HCA.FEMA.PC</td>\n",
       "      <td>4893.01</td>\n",
       "      <td>4737.86</td>\n",
       "      <td>4059.32</td>\n",
       "      <td>4191.45</td>\n",
       "      <td>4536.97</td>\n",
       "      <td>4695.07</td>\n",
       "      <td>...</td>\n",
       "      <td>3.529140e+03</td>\n",
       "      <td>3.613610e+03</td>\n",
       "      <td>3.603690e+03</td>\n",
       "      <td>3.683810e+03</td>\n",
       "      <td>3.696740e+03</td>\n",
       "      <td>3.719610e+03</td>\n",
       "      <td>3.767630e+03</td>\n",
       "      <td>3872.14</td>\n",
       "      <td>3992.19</td>\n",
       "      <td>4161.14</td>\n",
       "    </tr>\n",
       "  </tbody>\n",
       "</table>\n",
       "<p>5 rows × 28 columns</p>\n",
       "</div>"
      ],
      "text/plain": [
       "  Country Name Country Code  \\\n",
       "0      Albania          ALB   \n",
       "1      Albania          ALB   \n",
       "2      Albania          ALB   \n",
       "3      Albania          ALB   \n",
       "4      Albania          ALB   \n",
       "\n",
       "                                         Series Name     Series Code  \\\n",
       "0                  Human capital (constant 2018 US$)       NW.HCA.TO   \n",
       "1       Human capital per capita (constant 2018 US$)       NW.HCA.PC   \n",
       "2  Human capital per capita, employed female (con...  NW.HCA.FEMP.PC   \n",
       "3  Human capital per capita, employed male (const...  NW.HCA.MEMP.PC   \n",
       "4  Human capital per capita, female (constant 201...  NW.HCA.FEMA.PC   \n",
       "\n",
       "    1995 [YR1995]   1996 [YR1996]   1997 [YR1997]   1998 [YR1998]  \\\n",
       "0  44900000000.00  43400000000.00  37100000000.00  38800000000.00   \n",
       "1        14072.79        13708.99        11794.10        12399.48   \n",
       "2         3468.86         3355.55         2869.00         3013.39   \n",
       "3         6507.93         6353.74         5466.69         5901.07   \n",
       "4         4893.01         4737.86         4059.32         4191.45   \n",
       "\n",
       "    1999 [YR1999]   2000 [YR2000]  ... 2009 [YR2009] 2010 [YR2010]  \\\n",
       "0  42200000000.00  43600000000.00  ...  6.610000e+10  6.810000e+10   \n",
       "1        13573.26        14118.13  ...  2.258200e+04  2.336286e+04   \n",
       "2         3259.89         3424.01  ...  2.825340e+03  2.889150e+03   \n",
       "3         6492.73         6872.02  ...  1.525319e+04  1.578992e+04   \n",
       "4         4536.97         4695.07  ...  3.529140e+03  3.613610e+03   \n",
       "\n",
       "  2011 [YR2011] 2012 [YR2012]  2013 [YR2013]  2014 [YR2014]  2015 [YR2015]  \\\n",
       "0  6.850000e+10  7.080000e+10   7.160000e+10   7.250000e+10   7.370000e+10   \n",
       "1  2.359058e+04  2.439397e+04   2.473162e+04   2.509002e+04   2.559371e+04   \n",
       "2  2.848520e+03  2.930230e+03   2.954270e+03   2.957420e+03   2.987550e+03   \n",
       "3  1.579854e+04  1.647360e+04   1.681013e+04   1.699138e+04   1.730701e+04   \n",
       "4  3.603690e+03  3.683810e+03   3.696740e+03   3.719610e+03   3.767630e+03   \n",
       "\n",
       "    2016 [YR2016]   2017 [YR2017]   2018 [YR2018]  \n",
       "0  75700000000.00  78000000000.00  81200000000.00  \n",
       "1        26326.26        27160.86        28333.68  \n",
       "2         3072.50         3178.42         3312.93  \n",
       "3        17817.10        18445.94        19245.19  \n",
       "4         3872.14         3992.19         4161.14  \n",
       "\n",
       "[5 rows x 28 columns]"
      ]
     },
     "execution_count": 9,
     "metadata": {},
     "output_type": "execute_result"
    }
   ],
   "source": [
    "Accountsdata.head()\n"
   ]
  },
  {
   "cell_type": "code",
   "execution_count": 10,
   "metadata": {},
   "outputs": [
    {
     "data": {
      "text/plain": [
       "Index(['Country Name', 'Country Code', 'Series Name', 'Series Code',\n",
       "       '1995 [YR1995]', '1996 [YR1996]', '1997 [YR1997]', '1998 [YR1998]',\n",
       "       '1999 [YR1999]', '2000 [YR2000]', '2001 [YR2001]', '2002 [YR2002]',\n",
       "       '2003 [YR2003]', '2004 [YR2004]', '2005 [YR2005]', '2006 [YR2006]',\n",
       "       '2007 [YR2007]', '2008 [YR2008]', '2009 [YR2009]', '2010 [YR2010]',\n",
       "       '2011 [YR2011]', '2012 [YR2012]', '2013 [YR2013]', '2014 [YR2014]',\n",
       "       '2015 [YR2015]', '2016 [YR2016]', '2017 [YR2017]', '2018 [YR2018]'],\n",
       "      dtype='object')"
      ]
     },
     "execution_count": 10,
     "metadata": {},
     "output_type": "execute_result"
    }
   ],
   "source": [
    "Accountsdata.columns"
   ]
  },
  {
   "cell_type": "code",
   "execution_count": 11,
   "metadata": {},
   "outputs": [],
   "source": [
    "columns_to_drop = ['1996 [YR1996]', '1997 [YR1997]', '1998 [YR1998]', '1999 [YR1999]', '2001 [YR2001]', '2002 [YR2002]', '2003 [YR2003]', '2004 [YR2004]', '2006 [YR2006]', '2007 [YR2007]', '2008 [YR2008]', '2009 [YR2009]', '2011 [YR2011]', '2012 [YR2012]', '2013 [YR2013]', '2014 [YR2014]', '2016 [YR2016]', '2017 [YR2017]']\n"
   ]
  },
  {
   "cell_type": "code",
   "execution_count": 12,
   "metadata": {},
   "outputs": [],
   "source": [
    "Accountsdata.drop(columns=columns_to_drop, inplace = True, axis=1)\n"
   ]
  },
  {
   "cell_type": "code",
   "execution_count": 15,
   "metadata": {},
   "outputs": [
    {
     "data": {
      "text/plain": [
       "Country Name      object\n",
       "Country Code      object\n",
       "Series Name       object\n",
       "Series Code       object\n",
       "1995 [YR1995]     object\n",
       "2000 [YR2000]     object\n",
       "2005 [YR2005]    float64\n",
       "2010 [YR2010]    float64\n",
       "2015 [YR2015]    float64\n",
       "2018 [YR2018]     object\n",
       "dtype: object"
      ]
     },
     "execution_count": 15,
     "metadata": {},
     "output_type": "execute_result"
    }
   ],
   "source": [
    "\n",
    "Accountsdata.head()\n",
    "Accountsdata.dtypes\n",
    "\n"
   ]
  },
  {
   "cell_type": "code",
   "execution_count": 16,
   "metadata": {},
   "outputs": [
    {
     "data": {
      "text/plain": [
       "Code                                   object\n",
       "Indicator Name                         object\n",
       "Long definition                        object\n",
       "Source                                 object\n",
       "Topic                                  object\n",
       "Unit of measure                        object\n",
       "Periodicity                            object\n",
       "Reference period                       object\n",
       "Statistical concept and methodology    object\n",
       "Previous Indicator Code                object\n",
       "Previous Indicator Name                object\n",
       "dtype: object"
      ]
     },
     "execution_count": 16,
     "metadata": {},
     "output_type": "execute_result"
    }
   ],
   "source": [
    "Accountsseries = pd.read_csv(\"Wealth-AccountSeries.csv\")\n",
    "Accountsseries.head()\n",
    "Accountsseries.dtypes"
   ]
  },
  {
   "cell_type": "code",
   "execution_count": 17,
   "metadata": {},
   "outputs": [],
   "source": [
    "Accountsseries = Accountsseries[['Code', 'Topic', 'Indicator Name', 'Long definition']]"
   ]
  },
  {
   "cell_type": "code",
   "execution_count": 18,
   "metadata": {},
   "outputs": [
    {
     "data": {
      "text/html": [
       "<div>\n",
       "<style scoped>\n",
       "    .dataframe tbody tr th:only-of-type {\n",
       "        vertical-align: middle;\n",
       "    }\n",
       "\n",
       "    .dataframe tbody tr th {\n",
       "        vertical-align: top;\n",
       "    }\n",
       "\n",
       "    .dataframe thead th {\n",
       "        text-align: right;\n",
       "    }\n",
       "</style>\n",
       "<table border=\"1\" class=\"dataframe\">\n",
       "  <thead>\n",
       "    <tr style=\"text-align: right;\">\n",
       "      <th></th>\n",
       "      <th>Code</th>\n",
       "      <th>Topic</th>\n",
       "      <th>Indicator Name</th>\n",
       "      <th>Long definition</th>\n",
       "    </tr>\n",
       "  </thead>\n",
       "  <tbody>\n",
       "    <tr>\n",
       "      <th>0</th>\n",
       "      <td>NW.HCA.TO</td>\n",
       "      <td>Human capital</td>\n",
       "      <td>Human capital (constant 2018 US$)</td>\n",
       "      <td>Human capital is computed as the present value...</td>\n",
       "    </tr>\n",
       "    <tr>\n",
       "      <th>1</th>\n",
       "      <td>NW.HCA.PC</td>\n",
       "      <td>Human capital</td>\n",
       "      <td>Human capital per capita (constant 2018 US$)</td>\n",
       "      <td>Human capital is computed as the present value...</td>\n",
       "    </tr>\n",
       "    <tr>\n",
       "      <th>2</th>\n",
       "      <td>NW.HCA.FEMP.PC</td>\n",
       "      <td>Human capital</td>\n",
       "      <td>Human capital per capita, employed female (con...</td>\n",
       "      <td>Human capital is computed as the present value...</td>\n",
       "    </tr>\n",
       "    <tr>\n",
       "      <th>3</th>\n",
       "      <td>NW.HCA.MEMP.PC</td>\n",
       "      <td>Human capital</td>\n",
       "      <td>Human capital per capita, employed male (const...</td>\n",
       "      <td>Human capital is computed as the present value...</td>\n",
       "    </tr>\n",
       "    <tr>\n",
       "      <th>4</th>\n",
       "      <td>NW.HCA.FEMA.PC</td>\n",
       "      <td>Human capital</td>\n",
       "      <td>Human capital per capita, female (constant 201...</td>\n",
       "      <td>Human capital is computed as the present value...</td>\n",
       "    </tr>\n",
       "  </tbody>\n",
       "</table>\n",
       "</div>"
      ],
      "text/plain": [
       "             Code          Topic  \\\n",
       "0       NW.HCA.TO  Human capital   \n",
       "1       NW.HCA.PC  Human capital   \n",
       "2  NW.HCA.FEMP.PC  Human capital   \n",
       "3  NW.HCA.MEMP.PC  Human capital   \n",
       "4  NW.HCA.FEMA.PC  Human capital   \n",
       "\n",
       "                                      Indicator Name  \\\n",
       "0                  Human capital (constant 2018 US$)   \n",
       "1       Human capital per capita (constant 2018 US$)   \n",
       "2  Human capital per capita, employed female (con...   \n",
       "3  Human capital per capita, employed male (const...   \n",
       "4  Human capital per capita, female (constant 201...   \n",
       "\n",
       "                                     Long definition  \n",
       "0  Human capital is computed as the present value...  \n",
       "1  Human capital is computed as the present value...  \n",
       "2  Human capital is computed as the present value...  \n",
       "3  Human capital is computed as the present value...  \n",
       "4  Human capital is computed as the present value...  "
      ]
     },
     "execution_count": 18,
     "metadata": {},
     "output_type": "execute_result"
    }
   ],
   "source": [
    "Accountsseries.head()"
   ]
  },
  {
   "cell_type": "code",
   "execution_count": 19,
   "metadata": {},
   "outputs": [],
   "source": [
    "cur, conn = create_db()"
   ]
  },
  {
   "cell_type": "code",
   "execution_count": 20,
   "metadata": {},
   "outputs": [],
   "source": [
    "accountscountry_table_create = (\"\"\"CREATE TABLE IF NOT EXISTS accountscountry(country_code varchar PRIMARY KEY, short_name varchar, table_name varchar, long_name varchar, currency_unit varchar)\"\"\")"
   ]
  },
  {
   "cell_type": "code",
   "execution_count": 21,
   "metadata": {},
   "outputs": [],
   "source": [
    "cur.execute(accountscountry_table_create)\n",
    "conn.commit()"
   ]
  },
  {
   "cell_type": "code",
   "execution_count": 22,
   "metadata": {},
   "outputs": [],
   "source": [
    "accountsdata_table_create = (\"\"\"CREATE TABLE IF NOT EXISTS accountsdata(country_name varchar, country_code varchar, series_name varchar, series_code varchar, year_1995 varchar, year_2000 varchar, year_2005 float, year_2010 float, year_2015 float, year_2018 varchar)\"\"\")\n",
    "cur.execute(accountsdata_table_create)\n",
    "conn.commit()"
   ]
  },
  {
   "cell_type": "code",
   "execution_count": 23,
   "metadata": {},
   "outputs": [],
   "source": [
    "accountsseries_table_create = (\"\"\"CREATE TABLE IF NOT EXISTS accountsseries(series_code varchar, topic varchar, indicator_name varchar, long_definition varchar)\"\"\")\n",
    "cur.execute(accountsseries_table_create)\n",
    "conn.commit()"
   ]
  },
  {
   "cell_type": "code",
   "execution_count": 24,
   "metadata": {},
   "outputs": [],
   "source": [
    "accountscountry_table_insert = (\"\"\"INSERT INTO accountscountry(country_code, short_name, table_name, long_name, currency_unit) VALUES (%s, %s, %s, %s, %s)\"\"\")"
   ]
  },
  {
   "cell_type": "code",
   "execution_count": 25,
   "metadata": {},
   "outputs": [],
   "source": [
    "for i, row in Accountscountry_clean.iterrows():\n",
    "    cur.execute(accountscountry_table_insert, list(row))"
   ]
  },
  {
   "cell_type": "code",
   "execution_count": 26,
   "metadata": {},
   "outputs": [],
   "source": [
    "conn.commit()"
   ]
  },
  {
   "cell_type": "code",
   "execution_count": 27,
   "metadata": {},
   "outputs": [],
   "source": [
    "accountsdata_table_insert = (\"\"\"INSERT INTO accountsdata(country_name, country_code, series_name, series_code, year_1995, year_2000, year_2005, year_2010, year_2015, year_2018) VALUES (%s, %s, %s, %s, %s, %s, %s, %s, %s, %s)\"\"\")"
   ]
  },
  {
   "cell_type": "code",
   "execution_count": 28,
   "metadata": {},
   "outputs": [],
   "source": [
    "for i, row in Accountsdata.iterrows():\n",
    "    cur.execute(accountsdata_table_insert, list(row))"
   ]
  },
  {
   "cell_type": "code",
   "execution_count": 29,
   "metadata": {},
   "outputs": [],
   "source": [
    "conn.commit()\n"
   ]
  },
  {
   "cell_type": "code",
   "execution_count": 30,
   "metadata": {},
   "outputs": [],
   "source": [
    "accountsseries_table_insert = (\"\"\"INSERT INTO accountsseries(series_code, topic, indicator_name, long_definition) VALUES (%s, %s, %s, %s)\"\"\")"
   ]
  },
  {
   "cell_type": "code",
   "execution_count": 31,
   "metadata": {},
   "outputs": [],
   "source": [
    "for i, row in Accountsseries.iterrows():\n",
    "    cur.execute(accountsseries_table_insert, list(row))"
   ]
  },
  {
   "cell_type": "code",
   "execution_count": 32,
   "metadata": {},
   "outputs": [],
   "source": [
    "conn.commit()"
   ]
  },
  {
   "cell_type": "code",
   "execution_count": 35,
   "metadata": {},
   "outputs": [
    {
     "name": "stdout",
     "output_type": "stream",
     "text": [
      "  country_code short_name table_name                  long_name  \\\n",
      "0          ALB    Albania    Albania        Republic of Albania   \n",
      "1          ARG  Argentina  Argentina         Argentine Republic   \n",
      "2          ARM    Armenia    Armenia        Republic of Armenia   \n",
      "3          AUS  Australia  Australia  Commonwealth of Australia   \n",
      "4          AUT    Austria    Austria        Republic of Austria   \n",
      "\n",
      "       currency_unit  \n",
      "0       Albanian lek  \n",
      "1     Argentine peso  \n",
      "2      Armenian dram  \n",
      "3  Australian dollar  \n",
      "4               Euro  \n"
     ]
    }
   ],
   "source": [
    "cur.execute(\"SELECT * FROM accountscountry LIMIT 5;\")\n",
    "rows = cur.fetchall()\n",
    "columns = [desc[0] for desc in cur.description]\n",
    "accountcountrys_data = pd.DataFrame(rows, columns=columns)\n",
    "print(accountcountrys_data)"
   ]
  },
  {
   "cell_type": "code",
   "execution_count": 36,
   "metadata": {},
   "outputs": [
    {
     "name": "stdout",
     "output_type": "stream",
     "text": [
      "  country_name country_code  \\\n",
      "0      Albania          ALB   \n",
      "1      Albania          ALB   \n",
      "2      Albania          ALB   \n",
      "3      Albania          ALB   \n",
      "4      Albania          ALB   \n",
      "\n",
      "                                         series_name     series_code  \\\n",
      "0                  Human capital (constant 2018 US$)       NW.HCA.TO   \n",
      "1       Human capital per capita (constant 2018 US$)       NW.HCA.PC   \n",
      "2  Human capital per capita, employed female (con...  NW.HCA.FEMP.PC   \n",
      "3  Human capital per capita, employed male (const...  NW.HCA.MEMP.PC   \n",
      "4  Human capital per capita, female (constant 201...  NW.HCA.FEMA.PC   \n",
      "\n",
      "        year_1995       year_2000     year_2005     year_2010     year_2015  \\\n",
      "0  44900000000.00  43600000000.00  5.440000e+10  6.810000e+10  7.370000e+10   \n",
      "1        14072.79        14118.13  1.807230e+04  2.336286e+04  2.559371e+04   \n",
      "2         3468.86         3424.01  2.222120e+03  2.889150e+03  2.987550e+03   \n",
      "3         6507.93         6872.02  1.168935e+04  1.578992e+04  1.730701e+04   \n",
      "4         4893.01         4695.07  2.886740e+03  3.613610e+03  3.767630e+03   \n",
      "\n",
      "        year_2018  \n",
      "0  81200000000.00  \n",
      "1        28333.68  \n",
      "2         3312.93  \n",
      "3        19245.19  \n",
      "4         4161.14  \n"
     ]
    }
   ],
   "source": [
    "cur.execute(\"SELECT * FROM accountsdata LIMIT 5;\")\n",
    "rows = cur.fetchall()\n",
    "columns = [desc[0] for desc in cur.description]\n",
    "accountdata_data = pd.DataFrame(rows, columns=columns)\n",
    "print(accountdata_data)"
   ]
  },
  {
   "cell_type": "code",
   "execution_count": 38,
   "metadata": {},
   "outputs": [
    {
     "name": "stdout",
     "output_type": "stream",
     "text": [
      "      series_code          topic  \\\n",
      "0       NW.HCA.TO  Human capital   \n",
      "1       NW.HCA.PC  Human capital   \n",
      "2  NW.HCA.FEMP.PC  Human capital   \n",
      "3  NW.HCA.MEMP.PC  Human capital   \n",
      "4  NW.HCA.FEMA.PC  Human capital   \n",
      "\n",
      "                                      indicator_name  \\\n",
      "0                  Human capital (constant 2018 US$)   \n",
      "1       Human capital per capita (constant 2018 US$)   \n",
      "2  Human capital per capita, employed female (con...   \n",
      "3  Human capital per capita, employed male (const...   \n",
      "4  Human capital per capita, female (constant 201...   \n",
      "\n",
      "                                     long_definition  \n",
      "0  Human capital is computed as the present value...  \n",
      "1  Human capital is computed as the present value...  \n",
      "2  Human capital is computed as the present value...  \n",
      "3  Human capital is computed as the present value...  \n",
      "4  Human capital is computed as the present value...  \n"
     ]
    }
   ],
   "source": [
    "cur.execute(\"SELECT * FROM accountsseries LIMIT 5;\")\n",
    "rows = cur.fetchall()\n",
    "columns = [desc[0] for desc in cur.description]\n",
    "accountseries_data = pd.DataFrame(rows, columns=columns)\n",
    "print(accountseries_data)"
   ]
  },
  {
   "cell_type": "code",
   "execution_count": null,
   "metadata": {},
   "outputs": [],
   "source": []
  }
 ],
 "metadata": {
  "kernelspec": {
   "display_name": "Python 3",
   "language": "python",
   "name": "python3"
  },
  "language_info": {
   "codemirror_mode": {
    "name": "ipython",
    "version": 3
   },
   "file_extension": ".py",
   "mimetype": "text/x-python",
   "name": "python",
   "nbconvert_exporter": "python",
   "pygments_lexer": "ipython3",
   "version": "3.11.7"
  }
 },
 "nbformat": 4,
 "nbformat_minor": 2
}
